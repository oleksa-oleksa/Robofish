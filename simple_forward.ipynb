{
 "cells": [
  {
   "cell_type": "code",
   "execution_count": 1,
   "id": "70743edf",
   "metadata": {},
   "outputs": [],
   "source": [
    "import numpy as np\n",
    "import matplotlib.pyplot as plt\n",
    "from pathlib import Path\n",
    "\n",
    "import fish_models\n",
    "import robofish.io\n"
   ]
  },
  {
   "cell_type": "code",
   "execution_count": 58,
   "id": "2f2f4492",
   "metadata": {},
   "outputs": [],
   "source": [
    "# create a fish, that always swims straight,\n",
    "# and turns left, when the wall is too close\n",
    "\n",
    "class SimpleForwardModel(fish_models.gym_interface.AbstractRaycastBasedModel):\n",
    "    def choose_action(self, view: np.ndarray):\n",
    "        # Return speed and turn from view\n",
    "        speed = np.random.random() * 20.\n",
    "\n",
    "        if view[6] > 0.95:\n",
    "            turn = 5 * np.pi\n",
    "        else: \n",
    "            turn = 0\n",
    "        return speed, turn\n",
    "    \n",
    "model = SimpleForwardModel()"
   ]
  },
  {
   "cell_type": "code",
   "execution_count": 27,
   "id": "5e544a30",
   "metadata": {},
   "outputs": [],
   "source": [
    "raycast = fish_models.gym_interface.Raycast(\n",
    "            n_wall_raycasts=5,\n",
    "            n_fish_bins=4,\n",
    "            fov_angle_fish_bins=np.pi,\n",
    "            fov_angle_wall_raycasts=np.pi,\n",
    "            world_bounds=([-50, -50], [50, 50]),\n",
    "        )\n",
    "\n"
   ]
  },
  {
   "cell_type": "code",
   "execution_count": 28,
   "id": "282ad1b2",
   "metadata": {},
   "outputs": [
    {
     "name": "stderr",
     "output_type": "stream",
     "text": [
      "\r",
      "  0%|          | 0/10 [00:00<?, ?it/s]"
     ]
    },
    {
     "name": "stdout",
     "output_type": "stream",
     "text": [
      "Loading data from 10 files.\n"
     ]
    },
    {
     "name": "stderr",
     "output_type": "stream",
     "text": [
      "100%|██████████| 10/10 [00:02<00:00,  3.94it/s]\n",
      "  0%|          | 0/10 [00:00<?, ?it/s]"
     ]
    },
    {
     "name": "stdout",
     "output_type": "stream",
     "text": [
      "Calculating views from 10 files.\n"
     ]
    },
    {
     "name": "stderr",
     "output_type": "stream",
     "text": [
      "100%|██████████| 10/10 [00:21<00:00,  2.15s/it]"
     ]
    },
    {
     "name": "stdout",
     "output_type": "stream",
     "text": [
      "Created IoDataset:\n",
      "Reduced the first 3 dimensions from (10, 2, 8989) to (179780)\n",
      "poses\t(179780, 3):\tconsisting of x, y, calc_ori_rad.\n",
      "actions\t(179760, 2):\tconsisting of speed[cm/s] and turn [rad/s].\n",
      "views\t(179760, 9):\t4 fish_bins and 5 wall ray casts.\n",
      "\n"
     ]
    },
    {
     "name": "stderr",
     "output_type": "stream",
     "text": [
      "\n"
     ]
    }
   ],
   "source": [
    "data_folder = Path(\"data/live_female_female/train\")\n",
    "\n",
    "dset = fish_models.datasets.io_dataset.IoDataset(\n",
    "    data_folder,\n",
    "    raycast,\n",
    "    output_strings=[\"poses\", \"actions\", \"views\"],\n",
    "    reduce_dim=2,\n",
    "    max_files=10,\n",
    ")"
   ]
  },
  {
   "cell_type": "code",
   "execution_count": 59,
   "id": "bf991b24",
   "metadata": {},
   "outputs": [
    {
     "name": "stderr",
     "output_type": "stream",
     "text": [
      "100%|██████████| 999/999 [00:00<00:00, 1598.38it/s]"
     ]
    },
    {
     "name": "stdout",
     "output_type": "stream",
     "text": [
      "(1, 1000, 3)\n"
     ]
    },
    {
     "name": "stderr",
     "output_type": "stream",
     "text": [
      "\n"
     ]
    }
   ],
   "source": [
    "generator = fish_models.gym_interface.TrackGeneratorGymRaycast(\n",
    "    model, raycast, [100,100], 25\n",
    ")\n",
    "\n",
    "track = generator.create_track(n_guppies=1, trackset_len=1000)\n",
    "print(track.shape)"
   ]
  },
  {
   "cell_type": "code",
   "execution_count": 53,
   "id": "a86298d4",
   "metadata": {
    "scrolled": false
   },
   "outputs": [
    {
     "data": {
      "text/plain": [
       "<HDF5 file \"5bae5f58-d067-45d9-8ad5-7b4d915efb56\" (mode r+)>"
      ]
     },
     "execution_count": 53,
     "metadata": {},
     "output_type": "execute_result"
    }
   ],
   "source": [
    "f = generator.as_io_file(track)\n",
    "f.save_as(\"output/simple_forward.hdf5\")"
   ]
  },
  {
   "cell_type": "code",
   "execution_count": 60,
   "id": "cf09d8a9",
   "metadata": {},
   "outputs": [
    {
     "data": {
      "image/png": "[encoded data removed]",
      "text/plain": [
       "<Figure size 720x720 with 1 Axes>"
      ]
     },
     "metadata": {
      "needs_background": "light"
     },
     "output_type": "display_data"
    }
   ],
   "source": [
    "plt.figure(figsize=(10,10))\n",
    "plt.xlim(-50,50)\n",
    "plt.ylim(-50,50)\n",
    "for fish_id in range(1):\n",
    "    plt.plot(track[fish_id, :, 0], track[fish_id, :, 1])\n",
    "plt.show()"
   ]
  },
  {
   "cell_type": "code",
   "execution_count": null,
   "id": "b7761f3e",
   "metadata": {},
   "outputs": [],
   "source": []
  }
 ],
 "metadata": {
  "kernelspec": {
   "display_name": "Python 3",
   "language": "python",
   "name": "python3"
  },
  "language_info": {
   "codemirror_mode": {
    "name": "ipython",
    "version": 3
   },
   "file_extension": ".py",
   "mimetype": "text/x-python",
   "name": "python",
   "nbconvert_exporter": "python",
   "pygments_lexer": "ipython3",
   "version": "3.8.1"
  }
 },
 "nbformat": 4,
 "nbformat_minor": 5
}
