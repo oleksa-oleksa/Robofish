{
 "cells": [
  {
   "cell_type": "code",
   "execution_count": 1,
   "id": "eddf9fdb",
   "metadata": {},
   "outputs": [],
   "source": [
    "import numpy as np\n",
    "import matplotlib.pyplot as plt\n",
    "from pathlib import Path\n",
    "\n",
    "import fish_models\n",
    "import robofish.io"
   ]
  },
  {
   "cell_type": "code",
   "execution_count": 2,
   "id": "b677c978",
   "metadata": {},
   "outputs": [],
   "source": [
    "fishes = 4"
   ]
  },
  {
   "cell_type": "code",
   "execution_count": 13,
   "id": "4d5e021a",
   "metadata": {},
   "outputs": [],
   "source": [
    "from sklearn.ensemble import RandomForestRegressor\n",
    "import random\n",
    "\n",
    "class RandomForestFishModel(fish_models.gym_interface.AbstractRaycastBasedModel):\n",
    "    def __init__(self):\n",
    "        \"\"\"\n",
    "        Parameters\n",
    "        ---------\n",
    "        n_estimators : int, default=100\n",
    "            The number of trees in the forest.\n",
    "        max_depth : int, default=None\n",
    "            The maximum depth of the tree. \n",
    "            If None, then nodes are expanded until all leaves are pure \n",
    "            or until all leaves contain less than min_samples_split samples.\n",
    "        random_state : int, RandomState instance or None, default=None\n",
    "            Controls both the randomness of the bootstrapping \n",
    "            of the samples used when building trees\n",
    "\n",
    "        \"\"\"\n",
    "        self.clf = RandomForestRegressor(n_estimators=255, max_depth=None, random_state=None)\n",
    "        \n",
    "    def choose_action(self, view: np.ndarray):\n",
    "        \"\"\"\n",
    "        Predict regression target for given view of a virtual fish.\n",
    "        The predicted regression target of an input sample is computed \n",
    "        as the mean predicted regression targets of the trees in the forest.\n",
    "        \"\"\"\n",
    "        \n",
    "        prediction = self.clf.predict([view])\n",
    "        \n",
    "        speed = prediction[0][0]\n",
    "        turn = prediction[0][1]\n",
    "        \n",
    "        # turn correction for walls avoidance\n",
    "        turn = self.avoid_walls(view, turn)\n",
    "        \n",
    "        return speed, turn\n",
    "        \n",
    "    \n",
    "    def avoid_walls(self, view, turn):\n",
    "        \"\"\"\n",
    "        Forces to turn a fish in a random direction\n",
    "        if in a view's raycast of the walls\n",
    "        a wall in the front of a fish is detected to near\n",
    "\n",
    "        Parameters\n",
    "        ---------\n",
    "        view : array_like\n",
    "            The observations of the virtual fish\n",
    "        turn : float\n",
    "            Turn predicted by a model that is to modify\n",
    "\n",
    "        Returns\n",
    "        ---------\n",
    "        turn : float\n",
    "            Original or modified turn depending on the wall distance\n",
    "        \"\"\"\n",
    "        param = random.randint(-5, 5)\n",
    "        \n",
    "        if param == 0:\n",
    "            param = random.randint(5, 11)\n",
    "        \n",
    "        if view[6] > 0.9:\n",
    "            return param * np.pi\n",
    "        else:\n",
    "            return turn\n",
    "    \n",
    "    def fit(self, dset):\n",
    "        \"\"\"\n",
    "        Build a forest of trees from the given fish dset\n",
    "        \n",
    "        Dset will be devided into the training input samples aka views\n",
    "        and target values aka tuple of actions as real numbers in regression\n",
    "        \"\"\"\n",
    "        \n",
    "        views = dset[:][\"views\"]\n",
    "        actions = dset[:][\"actions\"]\n",
    "        \n",
    "        # Fit\n",
    "        self.clf.fit(views, actions)\n",
    "        \n",
    "        print(\"Fit done\")\n",
    "        \n",
    "    \n",
    "model = RandomForestFishModel()"
   ]
  },
  {
   "cell_type": "code",
   "execution_count": 14,
   "id": "723a2d74",
   "metadata": {},
   "outputs": [],
   "source": [
    "raycast = fish_models.gym_interface.Raycast(\n",
    "            n_wall_raycasts=5,\n",
    "            n_fish_bins=4,\n",
    "            fov_angle_fish_bins=np.pi,\n",
    "            fov_angle_wall_raycasts=np.pi,\n",
    "            world_bounds=([-50, -50], [50, 50]),\n",
    "        )\n",
    "\n"
   ]
  },
  {
   "cell_type": "code",
   "execution_count": 6,
   "id": "ebdb136b",
   "metadata": {},
   "outputs": [
    {
     "name": "stderr",
     "output_type": "stream",
     "text": [
      "\r",
      "  0%|          | 0/5 [00:00<?, ?it/s]"
     ]
    },
    {
     "name": "stdout",
     "output_type": "stream",
     "text": [
      "Loading data from 5 files.\n"
     ]
    },
    {
     "name": "stderr",
     "output_type": "stream",
     "text": [
      "100%|██████████| 5/5 [00:01<00:00,  4.88it/s]\n",
      "  0%|          | 0/5 [00:00<?, ?it/s]"
     ]
    },
    {
     "name": "stdout",
     "output_type": "stream",
     "text": [
      "Calculating views from 5 files.\n"
     ]
    },
    {
     "name": "stderr",
     "output_type": "stream",
     "text": [
      "100%|██████████| 5/5 [00:08<00:00,  1.77s/it]"
     ]
    },
    {
     "name": "stdout",
     "output_type": "stream",
     "text": [
      "Created IoDataset:\n",
      "Reduced the first 3 dimensions from (5, 2, 8989) to (89890)\n",
      "poses\t(89890, 3):\tconsisting of x, y, calc_ori_rad.\n",
      "actions\t(89880, 2):\tconsisting of speed[cm/s] and turn [rad/s].\n",
      "views\t(89880, 9):\t4 fish_bins and 5 wall ray casts.\n",
      "\n"
     ]
    },
    {
     "name": "stderr",
     "output_type": "stream",
     "text": [
      "\n"
     ]
    }
   ],
   "source": [
    "data_folder = Path(\"data/live_female_female/train\")\n",
    "\n",
    "dset = fish_models.datasets.io_dataset.IoDataset(\n",
    "    data_folder,\n",
    "    raycast,\n",
    "    output_strings=[\"poses\", \"actions\", \"views\"],\n",
    "    reduce_dim=2,\n",
    "    max_files=5,\n",
    ")"
   ]
  },
  {
   "cell_type": "code",
   "execution_count": 15,
   "id": "0fcbd613",
   "metadata": {},
   "outputs": [
    {
     "name": "stdout",
     "output_type": "stream",
     "text": [
      "Fit done\n"
     ]
    }
   ],
   "source": [
    "model.fit(dset)"
   ]
  },
  {
   "cell_type": "code",
   "execution_count": 16,
   "id": "0044336d",
   "metadata": {},
   "outputs": [
    {
     "name": "stderr",
     "output_type": "stream",
     "text": [
      "100%|██████████| 999/999 [02:01<00:00,  8.24it/s]\n"
     ]
    }
   ],
   "source": [
    "generator = fish_models.gym_interface.TrackGeneratorGymRaycast(\n",
    "    model, raycast, [100,100], 25\n",
    ")\n",
    "\n",
    "track = generator.create_track(n_guppies=fishes, trackset_len=1000)"
   ]
  },
  {
   "cell_type": "code",
   "execution_count": 17,
   "id": "255d5d0c",
   "metadata": {
    "scrolled": false
   },
   "outputs": [
    {
     "data": {
      "text/plain": [
       "<HDF5 file \"de00b1a4-ee6a-42c7-b720-7eeddafde733\" (mode r+)>"
      ]
     },
     "execution_count": 17,
     "metadata": {},
     "output_type": "execute_result"
    }
   ],
   "source": [
    "\n",
    "f = generator.as_io_file(track)\n",
    "f.save_as(\"output/random_forest.hdf5\")"
   ]
  },
  {
   "cell_type": "code",
   "execution_count": 18,
   "id": "fadbb39e",
   "metadata": {},
   "outputs": [
    {
     "data": {
      "image/png": "[encoded data removed]",
      "text/plain": [
       "<Figure size 720x720 with 1 Axes>"
      ]
     },
     "metadata": {
      "needs_background": "light"
     },
     "output_type": "display_data"
    }
   ],
   "source": [
    "plt.figure(figsize=(10,10))\n",
    "plt.xlim(-50,50)\n",
    "plt.ylim(-50,50)\n",
    "for fish_id in range(fishes):\n",
    "    plt.plot(track[fish_id, :, 0], track[fish_id, :, 1])\n",
    "plt.show()"
   ]
  },
  {
   "cell_type": "code",
   "execution_count": 19,
   "id": "1dc002f1",
   "metadata": {},
   "outputs": [],
   "source": [
    "def trajectory_generator(model_name, model, raycast, dset):\n",
    "    generator = fish_models.gym_interface.TrackGeneratorGymRaycast(\n",
    "    model, raycast, dset.world_size, dset.frequency\n",
    "    )\n",
    "    # Generate raycast file\n",
    "    # initial_poses = dset.poses[0, :, 0]\n",
    "    for i in range(20):\n",
    "        timesteps = 1500\n",
    "        initial_poses = np.array([[0.0, 0.0, 0.0], [0.0, 3.0, 0.0]])\n",
    "        track = generator.create_track(2, timesteps, initial_poses=initial_poses)\n",
    "        f = generator.as_io_file(track)\n",
    "        f.save_as(\"output/{}_modeldata/__generated{}.hdf5\".format(model_name, str(i)))"
   ]
  },
  {
   "cell_type": "code",
   "execution_count": 20,
   "id": "adb7727d",
   "metadata": {},
   "outputs": [
    {
     "name": "stderr",
     "output_type": "stream",
     "text": [
      "100%|██████████| 1499/1499 [01:39<00:00, 15.01it/s]\n",
      "100%|██████████| 1499/1499 [01:40<00:00, 14.93it/s]\n",
      "100%|██████████| 1499/1499 [01:25<00:00, 17.44it/s]\n",
      "100%|██████████| 1499/1499 [01:19<00:00, 18.79it/s]\n",
      "100%|██████████| 1499/1499 [01:29<00:00, 16.66it/s]\n",
      "100%|██████████| 1499/1499 [01:23<00:00, 17.91it/s]\n",
      "100%|██████████| 1499/1499 [01:39<00:00, 15.08it/s]\n",
      "100%|██████████| 1499/1499 [01:36<00:00, 15.55it/s]\n",
      "100%|██████████| 1499/1499 [02:48<00:00,  8.91it/s]\n",
      "100%|██████████| 1499/1499 [02:03<00:00, 12.15it/s]\n",
      "100%|██████████| 1499/1499 [01:29<00:00, 16.74it/s]\n",
      "100%|██████████| 1499/1499 [01:26<00:00, 17.32it/s]\n",
      "100%|██████████| 1499/1499 [01:17<00:00, 19.28it/s]\n",
      "100%|██████████| 1499/1499 [01:27<00:00, 17.08it/s]\n",
      "100%|██████████| 1499/1499 [01:32<00:00, 16.20it/s]\n",
      "100%|██████████| 1499/1499 [01:36<00:00, 15.47it/s]\n",
      "100%|██████████| 1499/1499 [01:20<00:00, 18.68it/s]\n",
      "100%|██████████| 1499/1499 [01:23<00:00, 17.99it/s]\n",
      "100%|██████████| 1499/1499 [01:25<00:00, 17.56it/s]\n",
      "100%|██████████| 1499/1499 [01:32<00:00, 16.18it/s]\n"
     ]
    }
   ],
   "source": [
    "trajectory_generator(\"RandomForestRegressor\", model, raycast, dset)"
   ]
  },
  {
   "cell_type": "code",
   "execution_count": null,
   "id": "a94c36ed",
   "metadata": {},
   "outputs": [],
   "source": []
  }
 ],
 "metadata": {
  "kernelspec": {
   "display_name": "Python 3",
   "language": "python",
   "name": "python3"
  },
  "language_info": {
   "codemirror_mode": {
    "name": "ipython",
    "version": 3
   },
   "file_extension": ".py",
   "mimetype": "text/x-python",
   "name": "python",
   "nbconvert_exporter": "python",
   "pygments_lexer": "ipython3",
   "version": "3.8.1"
  }
 },
 "nbformat": 4,
 "nbformat_minor": 5
}
