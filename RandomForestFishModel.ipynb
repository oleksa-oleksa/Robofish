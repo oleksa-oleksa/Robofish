{
 "cells": [
  {
   "cell_type": "code",
   "execution_count": 26,
   "id": "eddf9fdb",
   "metadata": {},
   "outputs": [],
   "source": [
    "import numpy as np\n",
    "import matplotlib.pyplot as plt\n",
    "from pathlib import Path\n",
    "\n",
    "import fish_models\n",
    "import fish_models.utils\n",
    "import robofish.io"
   ]
  },
  {
   "cell_type": "code",
   "execution_count": 27,
   "id": "b677c978",
   "metadata": {},
   "outputs": [],
   "source": [
    "fishes = 2"
   ]
  },
  {
   "cell_type": "code",
   "execution_count": 28,
   "id": "4d5e021a",
   "metadata": {},
   "outputs": [],
   "source": [
    "from sklearn.ensemble import RandomForestRegressor\n",
    "from sklearn.ensemble import RandomForestClassifier\n",
    "\n",
    "import random\n",
    "\n",
    "class RandomForestFishModel(fish_models.gym_interface.AbstractModel):\n",
    "    def __init__(self):\n",
    "        \"\"\"\n",
    "        Parameters\n",
    "        ---------\n",
    "        n_estimators : int, default=100\n",
    "            The number of trees in the forest.\n",
    "        max_depth : int, default=None\n",
    "            The maximum depth of the tree. \n",
    "            If None, then nodes are expanded until all leaves are pure \n",
    "            or until all leaves contain less than min_samples_split samples.\n",
    "        random_state : int, RandomState instance or None, default=None\n",
    "            Controls both the randomness of the bootstrapping \n",
    "            of the samples used when building trees\n",
    "\n",
    "        \"\"\"\n",
    "        self.clf = RandomForestRegressor(n_estimators=255, max_depth=None, random_state=None)\n",
    "        \n",
    "    def choose_action(self, view: np.ndarray):\n",
    "        \"\"\"\n",
    "        Predict regression target for given view of a virtual fish.\n",
    "        The predicted regression target of an input sample is computed \n",
    "        as the mean predicted regression targets of the trees in the forest.\n",
    "        \"\"\"\n",
    "        \n",
    "        prediction = self.clf.predict([view])\n",
    "        \n",
    "        speed = prediction[0][0]\n",
    "        turn = prediction[0][1]\n",
    "        \n",
    "       \n",
    "        return speed, turn\n",
    "        \n",
    "        \n",
    "    def fit(self, dset):\n",
    "        \"\"\"\n",
    "        Build a forest of trees from the given fish dset\n",
    "        \n",
    "        Dset will be devided into the training input samples aka views\n",
    "        and target values aka tuple of actions as real numbers in regression\n",
    "        \"\"\"\n",
    "        \n",
    "        views = dset[:][\"views\"]\n",
    "        actions = dset[:][\"actions\"]\n",
    "        \n",
    "        # Fit\n",
    "        self.clf.fit(views, actions)\n",
    "        \n",
    "        print(\"Fit done\")\n",
    "        \n",
    "    \n",
    "model = RandomForestFishModel()"
   ]
  },
  {
   "cell_type": "code",
   "execution_count": 29,
   "id": "723a2d74",
   "metadata": {},
   "outputs": [],
   "source": [
    "raycast = fish_models.gym_interface.Raycast(\n",
    "            n_wall_raycasts=5,\n",
    "            n_fish_bins=4,\n",
    "            fov_angle_fish_bins=np.pi,\n",
    "            fov_angle_wall_raycasts=np.pi,\n",
    "            world_bounds=([-50, -50], [50, 50]),\n",
    "        )\n",
    "\n"
   ]
  },
  {
   "cell_type": "code",
   "execution_count": 30,
   "id": "ebdb136b",
   "metadata": {},
   "outputs": [
    {
     "name": "stderr",
     "output_type": "stream",
     "text": [
      "\r",
      "  0%|          | 0/10 [00:00<?, ?it/s]"
     ]
    },
    {
     "name": "stdout",
     "output_type": "stream",
     "text": [
      "Loading data from 10 files.\n"
     ]
    },
    {
     "name": "stderr",
     "output_type": "stream",
     "text": [
      "100%|██████████| 10/10 [00:20<00:00,  2.08s/it]\n",
      "  0%|          | 0/10 [00:00<?, ?it/s]"
     ]
    },
    {
     "name": "stdout",
     "output_type": "stream",
     "text": [
      "Calculating views from 10 files.\n"
     ]
    },
    {
     "name": "stderr",
     "output_type": "stream",
     "text": [
      "100%|██████████| 10/10 [00:27<00:00,  2.78s/it]"
     ]
    },
    {
     "name": "stdout",
     "output_type": "stream",
     "text": [
      "Status of IoDataset:\n",
      "The first 3 dimensions are reduced from (10, 2, 8990) to (179800)\n",
      "poses\t(179800, 3):\tconsisting of x, y, orientation.\n",
      "actions\t(179780, 2):\tconsisting of speed [cm/s] and turn [rad/s].\n",
      "views\t(179780, 9):\t4 fish_bins and 5 wall ray casts.\n",
      "\n"
     ]
    },
    {
     "name": "stderr",
     "output_type": "stream",
     "text": [
      "\n"
     ]
    }
   ],
   "source": [
    "data_folder = Path(\"data/live_female_female/train\")\n",
    "\n",
    "dset = fish_models.datasets.io_dataset.IoDataset(\n",
    "    data_folder,\n",
    "    raycast,\n",
    "    output_strings=[\"poses\", \"actions\", \"views\"],\n",
    "    reduce_dim=2,\n",
    "    max_files=10,\n",
    ")"
   ]
  },
  {
   "cell_type": "code",
   "execution_count": 31,
   "id": "0fcbd613",
   "metadata": {},
   "outputs": [
    {
     "name": "stdout",
     "output_type": "stream",
     "text": [
      "Fit done\n"
     ]
    }
   ],
   "source": [
    "model.fit(dset)"
   ]
  },
  {
   "cell_type": "code",
   "execution_count": 32,
   "id": "0044336d",
   "metadata": {},
   "outputs": [
    {
     "name": "stderr",
     "output_type": "stream",
     "text": [
      "100%|██████████| 999/999 [01:22<00:00, 12.07it/s]\n"
     ]
    }
   ],
   "source": [
    "generator = fish_models.gym_interface.TrackGeneratorGym(\n",
    "    model, dset.world_size, dset.frequency, raycast=raycast\n",
    ")\n",
    "\n",
    "track = generator.create_track(n_guppies=fishes, trackset_len=1000)"
   ]
  },
  {
   "cell_type": "code",
   "execution_count": 33,
   "id": "255d5d0c",
   "metadata": {
    "scrolled": false
   },
   "outputs": [
    {
     "data": {
      "text/plain": [
       "<HDF5 file \"5cca38a5-6200-4660-87aa-026d261c89c5\" (mode r+)>"
      ]
     },
     "execution_count": 33,
     "metadata": {},
     "output_type": "execute_result"
    }
   ],
   "source": [
    "f = generator.as_io_file(track)\n",
    "f.save_as(\"output/random_forest.hdf5\")"
   ]
  },
  {
   "cell_type": "code",
   "execution_count": 34,
   "id": "fadbb39e",
   "metadata": {},
   "outputs": [
    {
     "data": {
      "image/png": "[encoded data removed]",
      "text/plain": [
       "<Figure size 720x720 with 1 Axes>"
      ]
     },
     "metadata": {
      "needs_background": "light"
     },
     "output_type": "display_data"
    }
   ],
   "source": [
    "plt.figure(figsize=(10,10))\n",
    "plt.xlim(-50,50)\n",
    "plt.ylim(-50,50)\n",
    "for fish_id in range(fishes):\n",
    "    plt.plot(track[fish_id, :, 0], track[fish_id, :, 1])\n",
    "plt.show()"
   ]
  },
  {
   "cell_type": "code",
   "execution_count": 37,
   "id": "1dc002f1",
   "metadata": {},
   "outputs": [],
   "source": [
    "def trajectory_generator(model_name, model, raycast, dset):\n",
    "    generator = fish_models.gym_interface.TrackGeneratorGym(\n",
    "    model, dset.world_size, dset.frequency, raycast=raycast\n",
    "    )\n",
    "    # Generate raycast file\n",
    "    # initial_poses = dset.poses[0, :, 0]\n",
    "    for i in range(20):\n",
    "        timesteps = 10000\n",
    "        #initial_poses = np.array([[0.0, 0.0, 0.0], [0.0, 3.0, 0.0]])\n",
    "        track = generator.create_track(2, timesteps)\n",
    "        f = generator.as_io_file(track)\n",
    "        f.save_as(\"output/{}_modeldata/__generated{}.hdf5\".format(model_name, str(i)))"
   ]
  },
  {
   "cell_type": "code",
   "execution_count": null,
   "id": "adb7727d",
   "metadata": {},
   "outputs": [
    {
     "name": "stderr",
     "output_type": "stream",
     "text": [
      "100%|██████████| 9999/9999 [09:55<00:00, 16.78it/s]\n",
      "  4%|▍         | 399/9999 [00:22<11:42, 13.67it/s]"
     ]
    }
   ],
   "source": [
    "trajectory_generator(\"RandomForestRegressor\", model, raycast, dset)"
   ]
  },
  {
   "cell_type": "code",
   "execution_count": null,
   "id": "a94c36ed",
   "metadata": {},
   "outputs": [],
   "source": []
  }
 ],
 "metadata": {
  "kernelspec": {
   "display_name": "Python 3",
   "language": "python",
   "name": "python3"
  },
  "language_info": {
   "codemirror_mode": {
    "name": "ipython",
    "version": 3
   },
   "file_extension": ".py",
   "mimetype": "text/x-python",
   "name": "python",
   "nbconvert_exporter": "python",
   "pygments_lexer": "ipython3",
   "version": "3.8.1"
  }
 },
 "nbformat": 4,
 "nbformat_minor": 5
}
