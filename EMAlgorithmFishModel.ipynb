{
 "cells": [
  {
   "cell_type": "code",
   "execution_count": 4,
   "id": "eddf9fdb",
   "metadata": {},
   "outputs": [],
   "source": [
    "import numpy as np\n",
    "import matplotlib.pyplot as plt\n",
    "from pathlib import Path\n",
    "\n",
    "import fish_models\n",
    "import robofish.io"
   ]
  },
  {
   "cell_type": "code",
   "execution_count": 5,
   "id": "b677c978",
   "metadata": {},
   "outputs": [],
   "source": [
    "fishes = 4"
   ]
  },
  {
   "cell_type": "code",
   "execution_count": 71,
   "id": "4d5e021a",
   "metadata": {},
   "outputs": [],
   "source": [
    "from sklearn.mixture import GaussianMixture\n",
    "import sklearn.cluster as cl\n",
    "import sklearn.metrics as mt\n",
    "\n",
    "class EMAlgorithmFishModel(fish_models.gym_interface.AbstractRaycastBasedModel):\n",
    "    \"\"\"\n",
    "    Representation of a Gaussian mixture model probability distribution. \n",
    "    GMMs are probabilistic models that assume all the data points are generated \n",
    "    from a mixture of several Gaussian distributions with unknown parameters.\n",
    "\n",
    "    The EM algorithm is an iterative approach that cycles between two modes:\n",
    "    E-Step. Estimate the missing variables in the dataset.\n",
    "    M-Step. Maximize the parameters of the model in the presence of the data.\n",
    "    \"\"\"\n",
    "    def __init__(self):\n",
    "        self.model = GaussianMixture(n_components=2,\n",
    "                                     covariance_type='full',\n",
    "                                     tol=0.01,\n",
    "                                     max_iter=1000)\n",
    "        \n",
    "    \n",
    "    def choose_action(self, view: np.ndarray):\n",
    "        \n",
    "        prediction = self.model.predict_proba([view])\n",
    "        print(self.model.means_)\n",
    "        print(self.model.covariances_)\n",
    "\n",
    "        print(prediction)\n",
    "        \n",
    "        speed = prediction[0]\n",
    "        turn = prediction[1]\n",
    "        \n",
    "        # turn correction for walls avoidance\n",
    "        turn = self.avoid_walls(view, turn)\n",
    "        \n",
    "        return speed, turn\n",
    "    \n",
    "    def avoid_walls(self, view, turn):\n",
    "        \"\"\"\n",
    "        Forces to turn a fish in a random direction\n",
    "        if in a view's raycast of the walls\n",
    "        a wall in the front of a fish is detected to near\n",
    "\n",
    "        Parameters\n",
    "        ---------\n",
    "        view : array_like\n",
    "            The observations of the virtual fish\n",
    "        turn : float\n",
    "            Turn predicted by a model that is to modify\n",
    "\n",
    "        Returns\n",
    "        ---------\n",
    "        turn : float\n",
    "            Original or modified turn depending on the wall distance\n",
    "        \"\"\"\n",
    "        param = random.randint(-5, 5)\n",
    "        \n",
    "        if param == 0:\n",
    "            param = random.randint(5, 11)\n",
    "        \n",
    "        if view[6] > 0.9:\n",
    "            return param * np.pi\n",
    "        else:\n",
    "            return turn\n",
    "        \n",
    " \n",
    "    def fit(self, dset):\n",
    "        \"\"\"\n",
    "        Learns parameters and runs the the two steps of EM Algorithm \n",
    "        until the average log-likelihood converges.\n",
    "        \"\"\"\n",
    "        \n",
    "        X = dset[:][\"views\"]\n",
    "        y = dset[:][\"actions\"]\n",
    "        \n",
    "        self.model.fit(X, y)\n",
    "        \n",
    "    \n",
    "model = EMAlgorithmFishModel()"
   ]
  },
  {
   "cell_type": "code",
   "execution_count": 72,
   "id": "723a2d74",
   "metadata": {},
   "outputs": [],
   "source": [
    "raycast = fish_models.gym_interface.Raycast(\n",
    "            n_wall_raycasts=5,\n",
    "            n_fish_bins=4,\n",
    "            fov_angle_fish_bins=np.pi,\n",
    "            fov_angle_wall_raycasts=np.pi,\n",
    "            world_bounds=([-50, -50], [50, 50]),\n",
    "        )\n",
    "\n"
   ]
  },
  {
   "cell_type": "code",
   "execution_count": 8,
   "id": "ebdb136b",
   "metadata": {},
   "outputs": [
    {
     "name": "stderr",
     "output_type": "stream",
     "text": [
      "\r",
      "  0%|          | 0/5 [00:00<?, ?it/s]"
     ]
    },
    {
     "name": "stdout",
     "output_type": "stream",
     "text": [
      "Loading data from 5 files.\n"
     ]
    },
    {
     "name": "stderr",
     "output_type": "stream",
     "text": [
      "100%|██████████| 5/5 [00:01<00:00,  4.12it/s]\n",
      "  0%|          | 0/5 [00:00<?, ?it/s]"
     ]
    },
    {
     "name": "stdout",
     "output_type": "stream",
     "text": [
      "Calculating views from 5 files.\n"
     ]
    },
    {
     "name": "stderr",
     "output_type": "stream",
     "text": [
      "100%|██████████| 5/5 [00:09<00:00,  1.84s/it]"
     ]
    },
    {
     "name": "stdout",
     "output_type": "stream",
     "text": [
      "Created IoDataset:\n",
      "Reduced the first 3 dimensions from (5, 2, 8989) to (89890)\n",
      "poses\t(89890, 3):\tconsisting of x, y, calc_ori_rad.\n",
      "actions\t(89880, 2):\tconsisting of speed[cm/s] and turn [rad/s].\n",
      "views\t(89880, 9):\t4 fish_bins and 5 wall ray casts.\n",
      "\n"
     ]
    },
    {
     "name": "stderr",
     "output_type": "stream",
     "text": [
      "\n"
     ]
    }
   ],
   "source": [
    "data_folder = Path(\"data/live_female_female/train\")\n",
    "\n",
    "dset = fish_models.datasets.io_dataset.IoDataset(\n",
    "    data_folder,\n",
    "    raycast,\n",
    "    output_strings=[\"poses\", \"actions\", \"views\"],\n",
    "    reduce_dim=2,\n",
    "    max_files=5,\n",
    ")"
   ]
  },
  {
   "cell_type": "code",
   "execution_count": 73,
   "id": "729f5e9b",
   "metadata": {},
   "outputs": [],
   "source": [
    "model.fit(dset)"
   ]
  },
  {
   "cell_type": "code",
   "execution_count": 74,
   "id": "0044336d",
   "metadata": {},
   "outputs": [
    {
     "name": "stderr",
     "output_type": "stream",
     "text": [
      "  0%|          | 0/4999 [00:00<?, ?it/s]"
     ]
    },
    {
     "name": "stdout",
     "output_type": "stream",
     "text": [
      "[[0.      0.31055 0.2857  0.26292 0.78932 0.75222 0.66286 0.55659 0.51382]\n",
      " [0.1552  0.      0.      0.      0.74137 0.74917 0.71404 0.62992 0.5633 ]]\n",
      "[[[ 0.       0.       0.       0.       0.       0.       0.\n",
      "    0.       0.     ]\n",
      "  [ 0.       0.18026 -0.08872 -0.08165 -0.01159 -0.01344 -0.00964\n",
      "   -0.0005   0.01185]\n",
      "  [ 0.      -0.08872  0.17429 -0.07512  0.01173  0.01427  0.00587\n",
      "   -0.00743 -0.01568]\n",
      "  [ 0.      -0.08165 -0.07512  0.16619  0.00218  0.0073   0.01205\n",
      "    0.00898 -0.00319]\n",
      "  [ 0.      -0.01159  0.01173  0.00218  0.0426   0.03152  0.00107\n",
      "   -0.02776 -0.03724]\n",
      "  [ 0.      -0.01344  0.01427  0.0073   0.03152  0.04306  0.01917\n",
      "   -0.01709 -0.03714]\n",
      "  [ 0.      -0.00964  0.00587  0.01205  0.00107  0.01917  0.03676\n",
      "    0.01728 -0.01461]\n",
      "  [ 0.      -0.0005  -0.00743  0.00898 -0.02776 -0.01709  0.01728\n",
      "    0.04854  0.02961]\n",
      "  [ 0.       0.01185 -0.01568 -0.00319 -0.03724 -0.03714 -0.01461\n",
      "    0.02961  0.05545]]\n",
      "\n",
      " [[ 0.11681  0.       0.       0.      -0.00765 -0.00851 -0.00604\n",
      "   -0.00006  0.00766]\n",
      "  [ 0.       0.       0.       0.       0.       0.       0.\n",
      "    0.       0.     ]\n",
      "  [ 0.       0.       0.       0.       0.       0.       0.\n",
      "    0.       0.     ]\n",
      "  [ 0.       0.       0.       0.       0.       0.       0.\n",
      "    0.       0.     ]\n",
      "  [-0.00765  0.       0.       0.       0.05002  0.03084  0.00013\n",
      "   -0.02826 -0.0426 ]\n",
      "  [-0.00851  0.       0.       0.       0.03084  0.0384   0.01816\n",
      "   -0.00844 -0.02851]\n",
      "  [-0.00604  0.       0.       0.       0.00013  0.01816  0.03225\n",
      "    0.02177 -0.00087]\n",
      "  [-0.00006  0.       0.       0.      -0.02826 -0.00844  0.02177\n",
      "    0.04935  0.03674]\n",
      "  [ 0.00766  0.       0.       0.      -0.0426  -0.02851 -0.00087\n",
      "    0.03674  0.05824]]]\n",
      "[[0. 1.]]\n"
     ]
    },
    {
     "name": "stderr",
     "output_type": "stream",
     "text": [
      "\n"
     ]
    },
    {
     "ename": "IndexError",
     "evalue": "index 1 is out of bounds for axis 0 with size 1",
     "output_type": "error",
     "traceback": [
      "\u001b[0;31m---------------------------------------------------------------------------\u001b[0m",
      "\u001b[0;31mIndexError\u001b[0m                                Traceback (most recent call last)",
      "\u001b[0;32m<ipython-input-74-9e415108bd2e>\u001b[0m in \u001b[0;36m<module>\u001b[0;34m\u001b[0m\n\u001b[1;32m      3\u001b[0m )\n\u001b[1;32m      4\u001b[0m \u001b[0;34m\u001b[0m\u001b[0m\n\u001b[0;32m----> 5\u001b[0;31m \u001b[0mtrack\u001b[0m \u001b[0;34m=\u001b[0m \u001b[0mgenerator\u001b[0m\u001b[0;34m.\u001b[0m\u001b[0mcreate_track\u001b[0m\u001b[0;34m(\u001b[0m\u001b[0mn_guppies\u001b[0m\u001b[0;34m=\u001b[0m\u001b[0mfishes\u001b[0m\u001b[0;34m,\u001b[0m \u001b[0mtrackset_len\u001b[0m\u001b[0;34m=\u001b[0m\u001b[0;36m5000\u001b[0m\u001b[0;34m)\u001b[0m\u001b[0;34m\u001b[0m\u001b[0;34m\u001b[0m\u001b[0m\n\u001b[0m",
      "\u001b[0;32m~/Documents/fish_models/src/fish_models/gym_interface.py\u001b[0m in \u001b[0;36mcreate_track\u001b[0;34m(self, n_guppies, trackset_len, initial_poses, verbose, validation_dataset)\u001b[0m\n\u001b[1;32m    425\u001b[0m         \u001b[0mtrack\u001b[0m \u001b[0;34m=\u001b[0m \u001b[0;34m[\u001b[0m\u001b[0minitial_state\u001b[0m\u001b[0;34m]\u001b[0m\u001b[0;34m\u001b[0m\u001b[0;34m\u001b[0m\u001b[0m\n\u001b[1;32m    426\u001b[0m         \u001b[0;32mfor\u001b[0m \u001b[0m_\u001b[0m \u001b[0;32min\u001b[0m \u001b[0mtqdm\u001b[0m\u001b[0;34m(\u001b[0m\u001b[0mrange\u001b[0m\u001b[0;34m(\u001b[0m\u001b[0mtrackset_len\u001b[0m \u001b[0;34m-\u001b[0m \u001b[0;36m1\u001b[0m\u001b[0;34m)\u001b[0m\u001b[0;34m)\u001b[0m\u001b[0;34m:\u001b[0m\u001b[0;34m\u001b[0m\u001b[0;34m\u001b[0m\u001b[0m\n\u001b[0;32m--> 427\u001b[0;31m             \u001b[0mstates\u001b[0m\u001b[0;34m,\u001b[0m \u001b[0;34m*\u001b[0m\u001b[0m_\u001b[0m \u001b[0;34m=\u001b[0m \u001b[0menv\u001b[0m\u001b[0;34m.\u001b[0m\u001b[0mstep\u001b[0m\u001b[0;34m(\u001b[0m\u001b[0maction\u001b[0m\u001b[0;34m=\u001b[0m\u001b[0;32mNone\u001b[0m\u001b[0;34m)\u001b[0m\u001b[0;34m\u001b[0m\u001b[0;34m\u001b[0m\u001b[0m\n\u001b[0m\u001b[1;32m    428\u001b[0m             \u001b[0mtrack\u001b[0m\u001b[0;34m.\u001b[0m\u001b[0mappend\u001b[0m\u001b[0;34m(\u001b[0m\u001b[0mstates\u001b[0m\u001b[0;34m)\u001b[0m\u001b[0;34m\u001b[0m\u001b[0;34m\u001b[0m\u001b[0m\n\u001b[1;32m    429\u001b[0m \u001b[0;34m\u001b[0m\u001b[0m\n",
      "\u001b[0;32m~/.local/share/virtualenvs/Robofish-IwTRahcW/lib/python3.8/site-packages/robofish/gym_guppy/envs/_guppy_env.py\u001b[0m in \u001b[0;36mstep\u001b[0;34m(self, action)\u001b[0m\n\u001b[1;32m    340\u001b[0m             \u001b[0ms\u001b[0m \u001b[0;34m=\u001b[0m \u001b[0mself\u001b[0m\u001b[0;34m.\u001b[0m\u001b[0mget_state\u001b[0m\u001b[0;34m(\u001b[0m\u001b[0;34m)\u001b[0m\u001b[0;34m\u001b[0m\u001b[0;34m\u001b[0m\u001b[0m\n\u001b[1;32m    341\u001b[0m \u001b[0;34m\u001b[0m\u001b[0m\n\u001b[0;32m--> 342\u001b[0;31m             \u001b[0mself\u001b[0m\u001b[0;34m.\u001b[0m\u001b[0m_compute_guppy_actions\u001b[0m\u001b[0;34m(\u001b[0m\u001b[0ms\u001b[0m\u001b[0;34m)\u001b[0m\u001b[0;34m\u001b[0m\u001b[0;34m\u001b[0m\u001b[0m\n\u001b[0m\u001b[1;32m    343\u001b[0m \u001b[0;34m\u001b[0m\u001b[0m\n\u001b[1;32m    344\u001b[0m             \u001b[0;32mfor\u001b[0m \u001b[0ma\u001b[0m \u001b[0;32min\u001b[0m \u001b[0mself\u001b[0m\u001b[0;34m.\u001b[0m\u001b[0m__agents\u001b[0m\u001b[0;34m:\u001b[0m\u001b[0;34m\u001b[0m\u001b[0;34m\u001b[0m\u001b[0m\n",
      "\u001b[0;32m~/.local/share/virtualenvs/Robofish-IwTRahcW/lib/python3.8/site-packages/robofish/gym_guppy/envs/_guppy_env.py\u001b[0m in \u001b[0;36m_compute_guppy_actions\u001b[0;34m(self, state)\u001b[0m\n\u001b[1;32m    392\u001b[0m             \u001b[0mself\u001b[0m\u001b[0;34m.\u001b[0m\u001b[0m_update_kdtree\u001b[0m\u001b[0;34m(\u001b[0m\u001b[0mstate\u001b[0m\u001b[0;34m)\u001b[0m\u001b[0;34m\u001b[0m\u001b[0;34m\u001b[0m\u001b[0m\n\u001b[1;32m    393\u001b[0m             \u001b[0;32mfor\u001b[0m \u001b[0mi\u001b[0m\u001b[0;34m,\u001b[0m \u001b[0mg\u001b[0m \u001b[0;32min\u001b[0m \u001b[0menumerate\u001b[0m\u001b[0;34m(\u001b[0m\u001b[0mself\u001b[0m\u001b[0;34m.\u001b[0m\u001b[0mguppies\u001b[0m\u001b[0;34m)\u001b[0m\u001b[0;34m:\u001b[0m\u001b[0;34m\u001b[0m\u001b[0;34m\u001b[0m\u001b[0m\n\u001b[0;32m--> 394\u001b[0;31m                 \u001b[0mg\u001b[0m\u001b[0;34m.\u001b[0m\u001b[0mcompute_next_action\u001b[0m\u001b[0;34m(\u001b[0m\u001b[0mstate\u001b[0m\u001b[0;34m=\u001b[0m\u001b[0mstate\u001b[0m\u001b[0;34m,\u001b[0m \u001b[0mkd_tree\u001b[0m\u001b[0;34m=\u001b[0m\u001b[0mself\u001b[0m\u001b[0;34m.\u001b[0m\u001b[0mkd_tree\u001b[0m\u001b[0;34m)\u001b[0m\u001b[0;34m\u001b[0m\u001b[0;34m\u001b[0m\u001b[0m\n\u001b[0m\u001b[1;32m    395\u001b[0m \u001b[0;34m\u001b[0m\u001b[0m\n\u001b[1;32m    396\u001b[0m     \u001b[0;32mdef\u001b[0m \u001b[0m_step_world\u001b[0m\u001b[0;34m(\u001b[0m\u001b[0mself\u001b[0m\u001b[0;34m)\u001b[0m\u001b[0;34m:\u001b[0m\u001b[0;34m\u001b[0m\u001b[0;34m\u001b[0m\u001b[0m\n",
      "\u001b[0;32m~/Documents/fish_models/src/fish_models/gym_interface.py\u001b[0m in \u001b[0;36mcompute_next_action\u001b[0;34m(self, state, kd_tree, verbose)\u001b[0m\n\u001b[1;32m    298\u001b[0m             )\n\u001b[1;32m    299\u001b[0m         \u001b[0;32melse\u001b[0m\u001b[0;34m:\u001b[0m\u001b[0;34m\u001b[0m\u001b[0;34m\u001b[0m\u001b[0m\n\u001b[0;32m--> 300\u001b[0;31m             \u001b[0mspeed_cm_per_second\u001b[0m\u001b[0;34m,\u001b[0m \u001b[0mturn_rad_per_second\u001b[0m \u001b[0;34m=\u001b[0m \u001b[0mself\u001b[0m\u001b[0;34m.\u001b[0m\u001b[0mmodel\u001b[0m\u001b[0;34m.\u001b[0m\u001b[0mchoose_action\u001b[0m\u001b[0;34m(\u001b[0m\u001b[0mview\u001b[0m\u001b[0;34m)\u001b[0m\u001b[0;34m\u001b[0m\u001b[0;34m\u001b[0m\u001b[0m\n\u001b[0m\u001b[1;32m    301\u001b[0m \u001b[0;34m\u001b[0m\u001b[0m\n\u001b[1;32m    302\u001b[0m         \u001b[0;31m# Test if real speed turn is working\u001b[0m\u001b[0;34m\u001b[0m\u001b[0;34m\u001b[0m\u001b[0;34m\u001b[0m\u001b[0m\n",
      "\u001b[0;32m<ipython-input-71-80fd2f706c68>\u001b[0m in \u001b[0;36mchoose_action\u001b[0;34m(self, view)\u001b[0m\n\u001b[1;32m     29\u001b[0m \u001b[0;34m\u001b[0m\u001b[0m\n\u001b[1;32m     30\u001b[0m         \u001b[0mspeed\u001b[0m \u001b[0;34m=\u001b[0m \u001b[0mprediction\u001b[0m\u001b[0;34m[\u001b[0m\u001b[0;36m0\u001b[0m\u001b[0;34m]\u001b[0m\u001b[0;34m\u001b[0m\u001b[0;34m\u001b[0m\u001b[0m\n\u001b[0;32m---> 31\u001b[0;31m         \u001b[0mturn\u001b[0m \u001b[0;34m=\u001b[0m \u001b[0mprediction\u001b[0m\u001b[0;34m[\u001b[0m\u001b[0;36m1\u001b[0m\u001b[0;34m]\u001b[0m\u001b[0;34m\u001b[0m\u001b[0;34m\u001b[0m\u001b[0m\n\u001b[0m\u001b[1;32m     32\u001b[0m \u001b[0;34m\u001b[0m\u001b[0m\n\u001b[1;32m     33\u001b[0m         \u001b[0;31m# turn correction for walls avoidance\u001b[0m\u001b[0;34m\u001b[0m\u001b[0;34m\u001b[0m\u001b[0;34m\u001b[0m\u001b[0m\n",
      "\u001b[0;31mIndexError\u001b[0m: index 1 is out of bounds for axis 0 with size 1"
     ]
    }
   ],
   "source": [
    "generator = fish_models.gym_interface.TrackGeneratorGymRaycast(\n",
    "    model, raycast, [100,100], 25\n",
    ")\n",
    "\n",
    "track = generator.create_track(n_guppies=fishes, trackset_len=5000)"
   ]
  },
  {
   "cell_type": "code",
   "execution_count": null,
   "id": "255d5d0c",
   "metadata": {
    "scrolled": false
   },
   "outputs": [],
   "source": [
    "f = generator.as_io_file(track)\n",
    "f.save_as(\"output/em_algorithm.hdf5\")"
   ]
  },
  {
   "cell_type": "code",
   "execution_count": null,
   "id": "fadbb39e",
   "metadata": {},
   "outputs": [],
   "source": [
    "plt.figure(figsize=(10,10))\n",
    "plt.xlim(-50,50)\n",
    "plt.ylim(-50,50)\n",
    "for fish_id in range(fishes):\n",
    "    plt.plot(track[fish_id, :, 0], track[fish_id, :, 1])\n",
    "plt.show()"
   ]
  }
 ],
 "metadata": {
  "kernelspec": {
   "display_name": "Python 3",
   "language": "python",
   "name": "python3"
  },
  "language_info": {
   "codemirror_mode": {
    "name": "ipython",
    "version": 3
   },
   "file_extension": ".py",
   "mimetype": "text/x-python",
   "name": "python",
   "nbconvert_exporter": "python",
   "pygments_lexer": "ipython3",
   "version": "3.8.1"
  }
 },
 "nbformat": 4,
 "nbformat_minor": 5
}
