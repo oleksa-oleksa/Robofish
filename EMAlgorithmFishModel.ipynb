{
 "cells": [
  {
   "cell_type": "code",
   "execution_count": 4,
   "id": "eddf9fdb",
   "metadata": {},
   "outputs": [],
   "source": [
    "import numpy as np\n",
    "import matplotlib.pyplot as plt\n",
    "from pathlib import Path\n",
    "\n",
    "import fish_models\n",
    "import robofish.io"
   ]
  },
  {
   "cell_type": "code",
   "execution_count": 5,
   "id": "b677c978",
   "metadata": {},
   "outputs": [],
   "source": [
    "fishes = 4"
   ]
  },
  {
   "cell_type": "code",
   "execution_count": 13,
   "id": "4d5e021a",
   "metadata": {},
   "outputs": [],
   "source": [
    "from sklearn.mixture import GaussianMixture\n",
    "import sklearn.cluster as cl\n",
    "import sklearn.metrics as mt\n",
    "\n",
    "class EMAlgorithmFishModel(fish_models.gym_interface.AbstractRaycastBasedModel):\n",
    "    \"\"\"\n",
    "    Representation of a Gaussian mixture model probability distribution. \n",
    "    GMMs are probabilistic models that assume all the data points are generated \n",
    "    from a mixture of several Gaussian distributions with unknown parameters.\n",
    "\n",
    "    The EM algorithm is an iterative approach that cycles between two modes:\n",
    "    E-Step. Estimate the missing variables in the dataset.\n",
    "    M-Step. Maximize the parameters of the model in the presence of the data.\n",
    "    \"\"\"\n",
    "    \n",
    "    def choose_action(self, view: np.ndarray):\n",
    "        \n",
    "        prediction = self.model.predict([view])\n",
    "        \n",
    "        print(prediction)\n",
    "        print(self.model.get_params())\n",
    "        \n",
    "        speed = prediction[0]\n",
    "        turn = prediction[1]\n",
    "        \n",
    "        # turn correction for walls avoidance\n",
    "        turn = self.avoid_walls(view, turn)\n",
    "        \n",
    "        return speed, turn\n",
    "    \n",
    "    def avoid_walls(self, view, turn):\n",
    "        \"\"\"\n",
    "        Forces to turn a fish in a random direction\n",
    "        if in a view's raycast of the walls\n",
    "        a wall in the front of a fish is detected to near\n",
    "\n",
    "        Parameters\n",
    "        ---------\n",
    "        view : array_like\n",
    "            The observations of the virtual fish\n",
    "        turn : float\n",
    "            Turn predicted by a model that is to modify\n",
    "\n",
    "        Returns\n",
    "        ---------\n",
    "        turn : float\n",
    "            Original or modified turn depending on the wall distance\n",
    "        \"\"\"\n",
    "        param = random.randint(-5, 5)\n",
    "        \n",
    "        if param == 0:\n",
    "            param = random.randint(5, 11)\n",
    "        \n",
    "        if view[6] > 0.9:\n",
    "            return param * np.pi\n",
    "        else:\n",
    "            return turn\n",
    "        \n",
    "    def learn_params(self, x_labeled, y_labeled):\n",
    "        n = x_labeled.shape[0]\n",
    "        phi = x_labeled[y_labeled == 1].shape[0] / n\n",
    "        mu0 = np.sum(x_labeled[y_labeled == 0], axis=0) / x_labeled[y_labeled == 0].shape[0]\n",
    "        mu1 = np.sum(x_labeled[y_labeled == 1], axis=0) / x_labeled[y_labeled == 1].shape[0]\n",
    "        sigma0 = np.cov(x_labeled[y_labeled == 0].T, bias= True)\n",
    "        sigma1 = np.cov(x_labeled[y_labeled == 1].T, bias=True)\n",
    "        return {'phi': phi, 'mu0': mu0, 'mu1': mu1, 'sigma0': sigma0, 'sigma1': sigma1}\n",
    "\n",
    "    def fit(self, dset):\n",
    "        \"\"\"\n",
    "        Learns parameters and runs the the two steps of EM Algorithm \n",
    "        until the average log-likelihood converges.\n",
    "        \"\"\"\n",
    "        \n",
    "        X = dset[:][\"views\"]\n",
    "        y = dset[:][\"actions\"]\n",
    "        \n",
    "        \n",
    "        learned_params = self.learn_params(X, y)\n",
    "        weights = [1 - learned_params[\"phi\"], learned_params[\"phi\"]]\n",
    "        means = [learned_params[\"mu0\"], learned_params[\"mu1\"]]\n",
    "        covariances = [learned_params[\"sigma0\"], learned_params[\"sigma1\"]]\n",
    "        \n",
    "        self.model = GaussianMixture(n_components=2,\n",
    "                                     covariance_type='full',\n",
    "                                     tol=0.01,\n",
    "                                     max_iter=1000,\n",
    "                                     weights_init=weights,\n",
    "                                     means_init=means,\n",
    "                                     precisions_init=covariances)\n",
    "        \n",
    "        \n",
    "        self.model.fit(X, y)\n",
    "        \n",
    "        print(\"\\nscikit learn:\\n\\tphi: %s\\n\\tmu_0: %s\\n\\tmu_1: %s\\n\\tsigma_0: %s\\n\\tsigma_1: %s\"\n",
    "               % (model.weights_[1], model.means_[0, :], model.means_[1, :], model.covariances_[0, :], model.covariances_[1, :]))\n",
    "     \n",
    "        \n",
    "    \n",
    "model = EMAlgorithmFishModel()"
   ]
  },
  {
   "cell_type": "code",
   "execution_count": 14,
   "id": "723a2d74",
   "metadata": {},
   "outputs": [],
   "source": [
    "raycast = fish_models.gym_interface.Raycast(\n",
    "            n_wall_raycasts=5,\n",
    "            n_fish_bins=4,\n",
    "            fov_angle_fish_bins=np.pi,\n",
    "            fov_angle_wall_raycasts=np.pi,\n",
    "            world_bounds=([-50, -50], [50, 50]),\n",
    "        )\n",
    "\n"
   ]
  },
  {
   "cell_type": "code",
   "execution_count": 8,
   "id": "ebdb136b",
   "metadata": {},
   "outputs": [
    {
     "name": "stderr",
     "output_type": "stream",
     "text": [
      "\r",
      "  0%|          | 0/5 [00:00<?, ?it/s]"
     ]
    },
    {
     "name": "stdout",
     "output_type": "stream",
     "text": [
      "Loading data from 5 files.\n"
     ]
    },
    {
     "name": "stderr",
     "output_type": "stream",
     "text": [
      "100%|██████████| 5/5 [00:01<00:00,  4.12it/s]\n",
      "  0%|          | 0/5 [00:00<?, ?it/s]"
     ]
    },
    {
     "name": "stdout",
     "output_type": "stream",
     "text": [
      "Calculating views from 5 files.\n"
     ]
    },
    {
     "name": "stderr",
     "output_type": "stream",
     "text": [
      "100%|██████████| 5/5 [00:09<00:00,  1.84s/it]"
     ]
    },
    {
     "name": "stdout",
     "output_type": "stream",
     "text": [
      "Created IoDataset:\n",
      "Reduced the first 3 dimensions from (5, 2, 8989) to (89890)\n",
      "poses\t(89890, 3):\tconsisting of x, y, calc_ori_rad.\n",
      "actions\t(89880, 2):\tconsisting of speed[cm/s] and turn [rad/s].\n",
      "views\t(89880, 9):\t4 fish_bins and 5 wall ray casts.\n",
      "\n"
     ]
    },
    {
     "name": "stderr",
     "output_type": "stream",
     "text": [
      "\n"
     ]
    }
   ],
   "source": [
    "data_folder = Path(\"data/live_female_female/train\")\n",
    "\n",
    "dset = fish_models.datasets.io_dataset.IoDataset(\n",
    "    data_folder,\n",
    "    raycast,\n",
    "    output_strings=[\"poses\", \"actions\", \"views\"],\n",
    "    reduce_dim=2,\n",
    "    max_files=5,\n",
    ")"
   ]
  },
  {
   "cell_type": "code",
   "execution_count": 15,
   "id": "8f810aa0",
   "metadata": {},
   "outputs": [
    {
     "ename": "IndexError",
     "evalue": "boolean index did not match indexed array along dimension 1; dimension is 9 but corresponding boolean dimension is 2",
     "output_type": "error",
     "traceback": [
      "\u001b[0;31m---------------------------------------------------------------------------\u001b[0m",
      "\u001b[0;31mIndexError\u001b[0m                                Traceback (most recent call last)",
      "\u001b[0;32m<ipython-input-15-00285daf6188>\u001b[0m in \u001b[0;36m<module>\u001b[0;34m\u001b[0m\n\u001b[0;32m----> 1\u001b[0;31m \u001b[0mmodel\u001b[0m\u001b[0;34m.\u001b[0m\u001b[0mfit\u001b[0m\u001b[0;34m(\u001b[0m\u001b[0mdset\u001b[0m\u001b[0;34m)\u001b[0m\u001b[0;34m\u001b[0m\u001b[0;34m\u001b[0m\u001b[0m\n\u001b[0m",
      "\u001b[0;32m<ipython-input-13-2e509a1124d3>\u001b[0m in \u001b[0;36mfit\u001b[0;34m(self, dset)\u001b[0m\n\u001b[1;32m     76\u001b[0m \u001b[0;34m\u001b[0m\u001b[0m\n\u001b[1;32m     77\u001b[0m \u001b[0;34m\u001b[0m\u001b[0m\n\u001b[0;32m---> 78\u001b[0;31m         \u001b[0mlearned_params\u001b[0m \u001b[0;34m=\u001b[0m \u001b[0mself\u001b[0m\u001b[0;34m.\u001b[0m\u001b[0mlearn_params\u001b[0m\u001b[0;34m(\u001b[0m\u001b[0mX\u001b[0m\u001b[0;34m,\u001b[0m \u001b[0my\u001b[0m\u001b[0;34m)\u001b[0m\u001b[0;34m\u001b[0m\u001b[0;34m\u001b[0m\u001b[0m\n\u001b[0m\u001b[1;32m     79\u001b[0m         \u001b[0mweights\u001b[0m \u001b[0;34m=\u001b[0m \u001b[0;34m[\u001b[0m\u001b[0;36m1\u001b[0m \u001b[0;34m-\u001b[0m \u001b[0mlearned_params\u001b[0m\u001b[0;34m[\u001b[0m\u001b[0;34m\"phi\"\u001b[0m\u001b[0;34m]\u001b[0m\u001b[0;34m,\u001b[0m \u001b[0mlearned_params\u001b[0m\u001b[0;34m[\u001b[0m\u001b[0;34m\"phi\"\u001b[0m\u001b[0;34m]\u001b[0m\u001b[0;34m]\u001b[0m\u001b[0;34m\u001b[0m\u001b[0;34m\u001b[0m\u001b[0m\n\u001b[1;32m     80\u001b[0m         \u001b[0mmeans\u001b[0m \u001b[0;34m=\u001b[0m \u001b[0;34m[\u001b[0m\u001b[0mlearned_params\u001b[0m\u001b[0;34m[\u001b[0m\u001b[0;34m\"mu0\"\u001b[0m\u001b[0;34m]\u001b[0m\u001b[0;34m,\u001b[0m \u001b[0mlearned_params\u001b[0m\u001b[0;34m[\u001b[0m\u001b[0;34m\"mu1\"\u001b[0m\u001b[0;34m]\u001b[0m\u001b[0;34m]\u001b[0m\u001b[0;34m\u001b[0m\u001b[0;34m\u001b[0m\u001b[0m\n",
      "\u001b[0;32m<ipython-input-13-2e509a1124d3>\u001b[0m in \u001b[0;36mlearn_params\u001b[0;34m(self, x_labeled, y_labeled)\u001b[0m\n\u001b[1;32m     59\u001b[0m     \u001b[0;32mdef\u001b[0m \u001b[0mlearn_params\u001b[0m\u001b[0;34m(\u001b[0m\u001b[0mself\u001b[0m\u001b[0;34m,\u001b[0m \u001b[0mx_labeled\u001b[0m\u001b[0;34m,\u001b[0m \u001b[0my_labeled\u001b[0m\u001b[0;34m)\u001b[0m\u001b[0;34m:\u001b[0m\u001b[0;34m\u001b[0m\u001b[0;34m\u001b[0m\u001b[0m\n\u001b[1;32m     60\u001b[0m         \u001b[0mn\u001b[0m \u001b[0;34m=\u001b[0m \u001b[0mx_labeled\u001b[0m\u001b[0;34m.\u001b[0m\u001b[0mshape\u001b[0m\u001b[0;34m[\u001b[0m\u001b[0;36m0\u001b[0m\u001b[0;34m]\u001b[0m\u001b[0;34m\u001b[0m\u001b[0;34m\u001b[0m\u001b[0m\n\u001b[0;32m---> 61\u001b[0;31m         \u001b[0mphi\u001b[0m \u001b[0;34m=\u001b[0m \u001b[0mx_labeled\u001b[0m\u001b[0;34m[\u001b[0m\u001b[0my_labeled\u001b[0m \u001b[0;34m==\u001b[0m \u001b[0;36m1\u001b[0m\u001b[0;34m]\u001b[0m\u001b[0;34m.\u001b[0m\u001b[0mshape\u001b[0m\u001b[0;34m[\u001b[0m\u001b[0;36m0\u001b[0m\u001b[0;34m]\u001b[0m \u001b[0;34m/\u001b[0m \u001b[0mn\u001b[0m\u001b[0;34m\u001b[0m\u001b[0;34m\u001b[0m\u001b[0m\n\u001b[0m\u001b[1;32m     62\u001b[0m         \u001b[0mmu0\u001b[0m \u001b[0;34m=\u001b[0m \u001b[0mnp\u001b[0m\u001b[0;34m.\u001b[0m\u001b[0msum\u001b[0m\u001b[0;34m(\u001b[0m\u001b[0mx_labeled\u001b[0m\u001b[0;34m[\u001b[0m\u001b[0my_labeled\u001b[0m \u001b[0;34m==\u001b[0m \u001b[0;36m0\u001b[0m\u001b[0;34m]\u001b[0m\u001b[0;34m,\u001b[0m \u001b[0maxis\u001b[0m\u001b[0;34m=\u001b[0m\u001b[0;36m0\u001b[0m\u001b[0;34m)\u001b[0m \u001b[0;34m/\u001b[0m \u001b[0mx_labeled\u001b[0m\u001b[0;34m[\u001b[0m\u001b[0my_labeled\u001b[0m \u001b[0;34m==\u001b[0m \u001b[0;36m0\u001b[0m\u001b[0;34m]\u001b[0m\u001b[0;34m.\u001b[0m\u001b[0mshape\u001b[0m\u001b[0;34m[\u001b[0m\u001b[0;36m0\u001b[0m\u001b[0;34m]\u001b[0m\u001b[0;34m\u001b[0m\u001b[0;34m\u001b[0m\u001b[0m\n\u001b[1;32m     63\u001b[0m         \u001b[0mmu1\u001b[0m \u001b[0;34m=\u001b[0m \u001b[0mnp\u001b[0m\u001b[0;34m.\u001b[0m\u001b[0msum\u001b[0m\u001b[0;34m(\u001b[0m\u001b[0mx_labeled\u001b[0m\u001b[0;34m[\u001b[0m\u001b[0my_labeled\u001b[0m \u001b[0;34m==\u001b[0m \u001b[0;36m1\u001b[0m\u001b[0;34m]\u001b[0m\u001b[0;34m,\u001b[0m \u001b[0maxis\u001b[0m\u001b[0;34m=\u001b[0m\u001b[0;36m0\u001b[0m\u001b[0;34m)\u001b[0m \u001b[0;34m/\u001b[0m \u001b[0mx_labeled\u001b[0m\u001b[0;34m[\u001b[0m\u001b[0my_labeled\u001b[0m \u001b[0;34m==\u001b[0m \u001b[0;36m1\u001b[0m\u001b[0;34m]\u001b[0m\u001b[0;34m.\u001b[0m\u001b[0mshape\u001b[0m\u001b[0;34m[\u001b[0m\u001b[0;36m0\u001b[0m\u001b[0;34m]\u001b[0m\u001b[0;34m\u001b[0m\u001b[0;34m\u001b[0m\u001b[0m\n",
      "\u001b[0;31mIndexError\u001b[0m: boolean index did not match indexed array along dimension 1; dimension is 9 but corresponding boolean dimension is 2"
     ]
    }
   ],
   "source": [
    "model.fit(dset)"
   ]
  },
  {
   "cell_type": "code",
   "execution_count": null,
   "id": "0044336d",
   "metadata": {},
   "outputs": [],
   "source": [
    "generator = fish_models.gym_interface.TrackGeneratorGymRaycast(\n",
    "    model, raycast, [100,100], 25\n",
    ")\n",
    "\n",
    "track = generator.create_track(n_guppies=fishes, trackset_len=5000)"
   ]
  },
  {
   "cell_type": "code",
   "execution_count": null,
   "id": "255d5d0c",
   "metadata": {
    "scrolled": false
   },
   "outputs": [],
   "source": [
    "f = generator.as_io_file(track)\n",
    "f.save_as(\"output/em_algorithm.hdf5\")"
   ]
  },
  {
   "cell_type": "code",
   "execution_count": null,
   "id": "fadbb39e",
   "metadata": {},
   "outputs": [],
   "source": [
    "plt.figure(figsize=(10,10))\n",
    "plt.xlim(-50,50)\n",
    "plt.ylim(-50,50)\n",
    "for fish_id in range(fishes):\n",
    "    plt.plot(track[fish_id, :, 0], track[fish_id, :, 1])\n",
    "plt.show()"
   ]
  }
 ],
 "metadata": {
  "kernelspec": {
   "display_name": "Python 3",
   "language": "python",
   "name": "python3"
  },
  "language_info": {
   "codemirror_mode": {
    "name": "ipython",
    "version": 3
   },
   "file_extension": ".py",
   "mimetype": "text/x-python",
   "name": "python",
   "nbconvert_exporter": "python",
   "pygments_lexer": "ipython3",
   "version": "3.8.1"
  }
 },
 "nbformat": 4,
 "nbformat_minor": 5
}
