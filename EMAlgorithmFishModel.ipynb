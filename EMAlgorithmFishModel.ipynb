{
 "cells": [
  {
   "cell_type": "code",
   "execution_count": 1,
   "id": "eddf9fdb",
   "metadata": {},
   "outputs": [],
   "source": [
    "import numpy as np\n",
    "import matplotlib.pyplot as plt\n",
    "from pathlib import Path\n",
    "\n",
    "import fish_models\n",
    "import robofish.io"
   ]
  },
  {
   "cell_type": "code",
   "execution_count": 2,
   "id": "b677c978",
   "metadata": {},
   "outputs": [],
   "source": [
    "fishes = 4"
   ]
  },
  {
   "cell_type": "code",
   "execution_count": 20,
   "id": "4d5e021a",
   "metadata": {},
   "outputs": [],
   "source": [
    "from sklearn.mixture import GaussianMixture\n",
    "import sklearn.cluster as cl\n",
    "import sklearn.metrics as mt\n",
    "import random\n",
    "\n",
    "class EMAlgorithmFishModel(fish_models.gym_interface.AbstractRaycastBasedModel):\n",
    "    \"\"\"\n",
    "    Representation of a Gaussian mixture model probability distribution. \n",
    "    GMMs are probabilistic models that assume all the data points are generated \n",
    "    from a mixture of several Gaussian distributions with unknown parameters.\n",
    "\n",
    "    The EM algorithm is an iterative approach that cycles between two modes:\n",
    "    E-Step. Estimate the missing variables in the dataset.\n",
    "    M-Step. Maximize the parameters of the model in the presence of the data.\n",
    "    \"\"\"\n",
    "    def __init__(self):\n",
    "        self.model = GaussianMixture(n_components=2,\n",
    "                                     covariance_type='full',\n",
    "                                     tol=0.01,\n",
    "                                     max_iter=1000)\n",
    "        \n",
    "    \n",
    "    def choose_action(self, view: np.ndarray):\n",
    "        \n",
    "        prediction = self.model.predict_proba([view])\n",
    "        #print(self.model.means_)\n",
    "        #print(self.model.covariances_)\n",
    "        #print(prediction)\n",
    "        \n",
    "        speed = prediction[0][0]\n",
    "        turn = prediction[0][1]\n",
    "        \n",
    "        # turn correction for walls avoidance\n",
    "        turn = self.avoid_walls(view, turn)\n",
    "        \n",
    "        return speed, turn\n",
    "    \n",
    "    def avoid_walls(self, view, turn):\n",
    "        \"\"\"\n",
    "        Forces to turn a fish in a random direction\n",
    "        if in a view's raycast of the walls\n",
    "        a wall in the front of a fish is detected to near\n",
    "\n",
    "        Parameters\n",
    "        ---------\n",
    "        view : array_like\n",
    "            The observations of the virtual fish\n",
    "        turn : float\n",
    "            Turn predicted by a model that is to modify\n",
    "\n",
    "        Returns\n",
    "        ---------\n",
    "        turn : float\n",
    "            Original or modified turn depending on the wall distance\n",
    "        \"\"\"\n",
    "        param = random.randint(-5, 5)\n",
    "        \n",
    "        if param == 0:\n",
    "            param = random.randint(5, 11)\n",
    "        \n",
    "        if view[6] > 0.9:\n",
    "            return param * np.pi\n",
    "        else:\n",
    "            return turn\n",
    "        \n",
    " \n",
    "    def fit(self, dset):\n",
    "        \"\"\"\n",
    "        Learns parameters and runs the the two steps of EM Algorithm \n",
    "        until the average log-likelihood converges.\n",
    "        \"\"\"\n",
    "        \n",
    "        X = dset[:][\"views\"]\n",
    "        y = dset[:][\"actions\"]\n",
    "        \n",
    "        self.model.fit(X, y)\n",
    "        \n",
    "    \n",
    "model = EMAlgorithmFishModel()"
   ]
  },
  {
   "cell_type": "code",
   "execution_count": 21,
   "id": "723a2d74",
   "metadata": {},
   "outputs": [],
   "source": [
    "raycast = fish_models.gym_interface.Raycast(\n",
    "            n_wall_raycasts=5,\n",
    "            n_fish_bins=4,\n",
    "            fov_angle_fish_bins=np.pi,\n",
    "            fov_angle_wall_raycasts=np.pi,\n",
    "            world_bounds=([-50, -50], [50, 50]),\n",
    "        )\n",
    "\n"
   ]
  },
  {
   "cell_type": "code",
   "execution_count": 5,
   "id": "ebdb136b",
   "metadata": {},
   "outputs": [
    {
     "name": "stderr",
     "output_type": "stream",
     "text": [
      "\r",
      "  0%|          | 0/5 [00:00<?, ?it/s]"
     ]
    },
    {
     "name": "stdout",
     "output_type": "stream",
     "text": [
      "Loading data from 5 files.\n"
     ]
    },
    {
     "name": "stderr",
     "output_type": "stream",
     "text": [
      "100%|██████████| 5/5 [00:01<00:00,  4.00it/s]\n",
      "  0%|          | 0/5 [00:00<?, ?it/s]"
     ]
    },
    {
     "name": "stdout",
     "output_type": "stream",
     "text": [
      "Calculating views from 5 files.\n"
     ]
    },
    {
     "name": "stderr",
     "output_type": "stream",
     "text": [
      "100%|██████████| 5/5 [00:10<00:00,  2.08s/it]"
     ]
    },
    {
     "name": "stdout",
     "output_type": "stream",
     "text": [
      "Created IoDataset:\n",
      "Reduced the first 3 dimensions from (5, 2, 8989) to (89890)\n",
      "poses\t(89890, 3):\tconsisting of x, y, calc_ori_rad.\n",
      "actions\t(89880, 2):\tconsisting of speed[cm/s] and turn [rad/s].\n",
      "views\t(89880, 9):\t4 fish_bins and 5 wall ray casts.\n",
      "\n"
     ]
    },
    {
     "name": "stderr",
     "output_type": "stream",
     "text": [
      "\n"
     ]
    }
   ],
   "source": [
    "data_folder = Path(\"data/live_female_female/train\")\n",
    "\n",
    "dset = fish_models.datasets.io_dataset.IoDataset(\n",
    "    data_folder,\n",
    "    raycast,\n",
    "    output_strings=[\"poses\", \"actions\", \"views\"],\n",
    "    reduce_dim=2,\n",
    "    max_files=5,\n",
    ")"
   ]
  },
  {
   "cell_type": "code",
   "execution_count": 22,
   "id": "0e0a921d",
   "metadata": {},
   "outputs": [],
   "source": [
    "model.fit(dset)"
   ]
  },
  {
   "cell_type": "code",
   "execution_count": 23,
   "id": "0044336d",
   "metadata": {},
   "outputs": [
    {
     "name": "stderr",
     "output_type": "stream",
     "text": [
      "100%|██████████| 4999/4999 [00:18<00:00, 274.38it/s]\n"
     ]
    }
   ],
   "source": [
    "generator = fish_models.gym_interface.TrackGeneratorGymRaycast(\n",
    "    model, raycast, [100,100], 25\n",
    ")\n",
    "\n",
    "track = generator.create_track(n_guppies=fishes, trackset_len=5000)"
   ]
  },
  {
   "cell_type": "code",
   "execution_count": null,
   "id": "255d5d0c",
   "metadata": {
    "scrolled": false
   },
   "outputs": [],
   "source": [
    "f = generator.as_io_file(track)\n",
    "f.save_as(\"output/em_algorithm.hdf5\")"
   ]
  },
  {
   "cell_type": "code",
   "execution_count": null,
   "id": "fadbb39e",
   "metadata": {},
   "outputs": [],
   "source": [
    "plt.figure(figsize=(10,10))\n",
    "plt.xlim(-50,50)\n",
    "plt.ylim(-50,50)\n",
    "for fish_id in range(fishes):\n",
    "    plt.plot(track[fish_id, :, 0], track[fish_id, :, 1])\n",
    "plt.show()"
   ]
  }
 ],
 "metadata": {
  "kernelspec": {
   "display_name": "Python 3",
   "language": "python",
   "name": "python3"
  },
  "language_info": {
   "codemirror_mode": {
    "name": "ipython",
    "version": 3
   },
   "file_extension": ".py",
   "mimetype": "text/x-python",
   "name": "python",
   "nbconvert_exporter": "python",
   "pygments_lexer": "ipython3",
   "version": "3.8.1"
  }
 },
 "nbformat": 4,
 "nbformat_minor": 5
}
